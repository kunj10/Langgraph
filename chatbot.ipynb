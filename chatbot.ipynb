{
 "cells": [
  {
   "cell_type": "code",
   "execution_count": 33,
   "id": "ac65c6f9",
   "metadata": {},
   "outputs": [],
   "source": [
    "from langgraph.graph import StateGraph, START ,END\n",
    "from typing import TypedDict , Annotated\n",
    "from langchain_core.messages import BaseMessage, HumanMessage\n",
    "from langchain_google_genai import ChatGoogleGenerativeAI\n",
    "from langgraph.checkpoint.memory import MemorySaver\n",
    "from langgraph.graph.message import add_messages \n"
   ]
  },
  {
   "cell_type": "code",
   "execution_count": null,
   "id": "e7e0b853",
   "metadata": {},
   "outputs": [],
   "source": []
  },
  {
   "cell_type": "code",
   "execution_count": 34,
   "id": "72c4da42",
   "metadata": {},
   "outputs": [],
   "source": [
    "class ChatState(TypedDict):\n",
    "  message : Annotated[list[BaseMessage], add_messages]"
   ]
  },
  {
   "cell_type": "code",
   "execution_count": 35,
   "id": "0c924567",
   "metadata": {},
   "outputs": [
    {
     "data": {
      "text/plain": [
       "AIMessage(content='Hi there! How can I help you today?', additional_kwargs={}, response_metadata={'prompt_feedback': {'block_reason': 0, 'safety_ratings': []}, 'finish_reason': 'STOP', 'model_name': 'gemini-1.5-flash', 'safety_ratings': []}, id='run--e148933b-7db8-4045-b4dc-7c327585314f-0', usage_metadata={'input_tokens': 1, 'output_tokens': 11, 'total_tokens': 12, 'input_token_details': {'cache_read': 0}})"
      ]
     },
     "execution_count": 35,
     "metadata": {},
     "output_type": "execute_result"
    }
   ],
   "source": [
    "llm = ChatGoogleGenerativeAI(model=\"gemini-1.5-flash\")\n",
    "llm.invoke(\"HI\")"
   ]
  },
  {
   "cell_type": "code",
   "execution_count": 36,
   "id": "17262d06",
   "metadata": {},
   "outputs": [],
   "source": [
    "def chat_node(state : ChatState):\n",
    "  message  = state[\"message\"]\n",
    "  \n",
    "  response = llm.invoke(message)\n",
    "  \n",
    "  return {'message' : [response]}\n",
    "  \n",
    "  "
   ]
  },
  {
   "cell_type": "code",
   "execution_count": 37,
   "id": "b52a8930",
   "metadata": {},
   "outputs": [],
   "source": [
    "checkpointer = MemorySaver()\n",
    "\n",
    "graph  = StateGraph(ChatState)\n",
    "\n",
    "graph.add_node(\"chat_node\" , chat_node)\n",
    "graph.add_edge(START , \"chat_node\")\n",
    "graph.add_edge(\"chat_node\" , END)\n",
    "\n",
    "chatbot = graph.compile(checkpointer)"
   ]
  },
  {
   "cell_type": "code",
   "execution_count": null,
   "id": "2b8dafeb",
   "metadata": {},
   "outputs": [
    {
     "name": "stdout",
     "output_type": "stream",
     "text": [
      "User :  I am Kunj \n",
      "AI :  It's nice to meet you, Kunj.  Is there anything I can help you with today?\n",
      "User :  can u explain the meaning of my name '\n",
      "AI :  The name Kunj has a few possible meanings and origins, depending on the language and cultural context.  The most common interpretations are:\n",
      "\n",
      "* **Sanskrit:**  In Sanskrit, Kunj often refers to a **grove, a cluster of trees, or a bower.**  This evokes a sense of beauty, serenity, and natural abundance.\n",
      "\n",
      "* **Hindi/Urdu:**  It shares the same meaning as in Sanskrit, carrying the imagery of a **pleasant, secluded place, often associated with tranquility and peace.**\n",
      "\n",
      "* **Other interpretations:**  In some contexts, it might also be seen as a variation or diminutive of other names.\n",
      "\n",
      "Therefore, the meaning of your name Kunj generally points towards **nature, peace, and a secluded, beautiful place.**  It's a name that suggests a calm and peaceful personality.\n"
     ]
    }
   ],
   "source": [
    "thread_id = 1\n",
    "\n",
    "while True:\n",
    "  user_message = input(\"type here : \")\n",
    "  print(\"User : \", user_message )\n",
    "  \n",
    "  if user_message.strip().lower() in [\"bye\" , \"end\" ,\"quit\"]:\n",
    "    break\n",
    "  \n",
    "  config = {\"configurable\" : {\"thread_id\": thread_id}}\n",
    "  \n",
    "  response = chatbot.invoke({\"message\" : [HumanMessage(content = user_message)]} , config = config)\n",
    "  \n",
    "  print(\"AI : \" , response[\"message\"][-1].content)"
   ]
  },
  {
   "cell_type": "code",
   "execution_count": 21,
   "id": "bf0968b8",
   "metadata": {},
   "outputs": [],
   "source": [
    "initial_state = { 'message' : \"what is the greatest number in Maths \" }\n",
    "\n",
    "ans = chat_bot.invoke(initial_state)"
   ]
  },
  {
   "cell_type": "code",
   "execution_count": 23,
   "id": "e526812a",
   "metadata": {},
   "outputs": [
    {
     "data": {
      "text/plain": [
       "\"There is no greatest number in mathematics.  No matter what number you can think of, you can always add 1 to it to get a larger number.  This applies to even incredibly large numbers like Graham's number or TREE(3).\""
      ]
     },
     "execution_count": 23,
     "metadata": {},
     "output_type": "execute_result"
    }
   ],
   "source": [
    "ans[\"message\"][-1].content"
   ]
  },
  {
   "cell_type": "code",
   "execution_count": null,
   "id": "7aee1137",
   "metadata": {},
   "outputs": [],
   "source": []
  },
  {
   "cell_type": "code",
   "execution_count": null,
   "id": "364edee9",
   "metadata": {},
   "outputs": [],
   "source": []
  },
  {
   "cell_type": "code",
   "execution_count": null,
   "id": "279781ed",
   "metadata": {},
   "outputs": [],
   "source": []
  },
  {
   "cell_type": "code",
   "execution_count": null,
   "id": "f5469b66",
   "metadata": {},
   "outputs": [],
   "source": []
  },
  {
   "cell_type": "code",
   "execution_count": null,
   "id": "304633b8",
   "metadata": {},
   "outputs": [],
   "source": []
  },
  {
   "cell_type": "code",
   "execution_count": null,
   "id": "98384498",
   "metadata": {},
   "outputs": [],
   "source": []
  },
  {
   "cell_type": "code",
   "execution_count": null,
   "id": "018eb78c",
   "metadata": {},
   "outputs": [],
   "source": []
  },
  {
   "cell_type": "code",
   "execution_count": null,
   "id": "b36cf035",
   "metadata": {},
   "outputs": [],
   "source": []
  },
  {
   "cell_type": "code",
   "execution_count": null,
   "id": "74eecc3e",
   "metadata": {},
   "outputs": [],
   "source": []
  }
 ],
 "metadata": {
  "kernelspec": {
   "display_name": "venv (3.13.2)",
   "language": "python",
   "name": "python3"
  },
  "language_info": {
   "codemirror_mode": {
    "name": "ipython",
    "version": 3
   },
   "file_extension": ".py",
   "mimetype": "text/x-python",
   "name": "python",
   "nbconvert_exporter": "python",
   "pygments_lexer": "ipython3",
   "version": "3.13.2"
  }
 },
 "nbformat": 4,
 "nbformat_minor": 5
}
